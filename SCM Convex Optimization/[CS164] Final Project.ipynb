{
 "cells": [
  {
   "cell_type": "markdown",
   "metadata": {},
   "source": [
    "\\begin{titlepage}\n",
    "   \\vspace*{\\stretch{1.0}}\n",
    "   \\begin{center}\n",
    "      \\Large\\textbf{Final Project}\\\\\n",
    "      \\Large\\text{Report}\\\\\n",
    "      \\large\\textit{Taha Bouhoun}\n",
    "   \\end{center}\n",
    "   \\vspace*{\\stretch{2.0}}\n",
    "\\end{titlepage}"
   ]
  },
  {
   "cell_type": "markdown",
   "metadata": {},
   "source": [
    "## Problem Description: \n",
    "Detail your chosen optimization problem here, giving the context and justification for optimizing [#rightproblem]\n",
    "\n",
    "The fundamental problem of causal inference is that we do not observe both potential outcomes of a single unit across the same timeline. In other words, if we want to disentangle the causal effect of a treatment for a given unit, we need to compare the outcome of the unit in the presence and absense of the treatment (e.g., in a medical trial, a patient cannot be in both the treatment and control group at the same time, thus, we can't observe their outcome in both worlds).\n",
    "\n",
    "However, we can approximate the counterfactual (the outcome of the treated unit had it not been subjected to treatment) using Synthetic Control Method designed by Abadie, Diamond, and Hainmueller (2010). The plan is to construct a synthetic version of the treated unit based on a convex combination of control group units such the the error between the treated unit and the synthetic unit is minimized during the pre-treatment period.\n",
    "\n",
    "The aim of this final project is to\n",
    "- Replicate the findings of the original paper of Synthetic Control Method: Using CVXPY, I will formulate the SCM method as a convex minimization problem and compare it with the findings of the original paper.\n",
    "- Provide a basis for Synthetic Control Method in Python: To date, the implimentation of SCM in only availible in R, MATLAB, and Stata. Thus, the formulation of SCM in Python using CVXPY package can be a start for a Python implimentation of the method.\n",
    "\n",
    "## Methodology:\n",
    "The original paper's aim was to disentangle the causal effect of German reunification in 1990 (treatment year) on West Germany's Gross Domestic Product. First, we gather data of the OECD countries from 1960 to 2003, then we split the data into two sections (pre-treatment & post-treatment). We then construct a covariate matrix of the treated unit (West Germany) $X_{1}$ and for the control units $X_{0}$ (rest of OECD). The benchmark is to have the best fit for West Germany' GDP trend and its constrcuted synthetic version during the pre-treatment period to have a credible comparaison in the post-treatment period.\n",
    "First, I addredd a simplified version of the problem on which the covariates have the same importance (weights), then I propose an approach to taking specifying weights for the covariates. \n",
    "\n",
    "\n",
    "*Note: The outcome variable (GDP) is excluded from the covariate matrices*\n",
    "\n",
    "### Simplified problem formulation:\n",
    "\n",
    "Objective: $$\\min\\sum_{k=1}^k\\left(X_1-W^{\\ast}X_0\\right)^2$$\n",
    "\n",
    "Subject to: $$\\sum_{j=1}^jW^{\\ast}=1$$\n",
    "\n",
    "Such as:\n",
    "- $j$ is the number of control units\n",
    "- $k$ is the number of covariates\n",
    "- $X_{1}$ is a $(1\\times k)$ vector of observed covariates of the treated unit\n",
    "- $X_{0}$ is a $(j\\times k)$ matrix of observed covariates of the control group\n",
    "- $W^\\ast$ is a $(1\\times j)$ vector of weights\n",
    "\n",
    "The aim is to minimize the error distance between the outcome of the treated unit $Y_{1}$ and the product of the optimal weights $w^\\ast$ by the outcome of the control units in the pre-treatment period $T_{0}$ such that:\n",
    "\n",
    "$$W^{\\ast}\\times Y_0\\approx Y_1$$\n",
    "\n",
    "Where:\n",
    "- $Y_{1}$ is a $(1\\times T_{0})$ vector of the outcome variable of the treated unit in the pre-treatment period\n",
    "- $Y_{0}$ is a $(j\\times T_{0})$ matrix of the outcome variable of the control units in the pre-treatment period\n",
    "\n",
    "\n",
    "Once we establish a good fit for the synthetic version and the treated unit, we can extrapolate the comparaison to the post-treatment period $T_{1}$ such that the treatment effect $\\hat{\\alpha}$ is expressed as:\n",
    "$$\\hat{\\alpha}=Y_{1T_{1}}-\\sum_{k=1}^kW^{\\ast}Y_{0T_{1}}$$\n",
    "\n",
    "\n",
    "### Incorporating the covariates' importance matrix:\n",
    "As mentioned in the methodology, the simplified version attributes the same importance to covariates which can be problematic given their different units and how they contribute differently to the error we're trying to minimize. To illustrate the idea, imagine if we take as covariate \n",
    "- *trade* in units of millions of dollars\n",
    "- *unemployment rate* in percentage out of 100\\%\n",
    "Both covariates contribute differently to the error rate, an error of 10$ in trade is not equivalent to a 10\\% gap in unemployment rate.\n",
    "By introducing a diagonal matrix V, each coravariate is attributed a weight that reflects its importance in terms of predicting the fit with the treated unit trend. The problem then is formulated as follow:\n",
    "\n",
    "We pick a diagonal matrix V to find the optimal weights W:\n",
    "$$\\min\\left(X_1-X_0W\\right)^TV\\left(X_1-X_0W\\right)$$\n",
    "\n",
    "We use the matrix V to test how well the it fits the outcome of the treated unit:\n",
    "$$V^{\\ast}=\\min\\left[\\left(Y_1-Y_0W^{\\ast}\\left(V\\right)\\right)^T\\left(Y_1-Y_0W^{\\ast}\\left(V\\right)\\right)\\right]$$\n",
    "\n",
    "The process of finding V can be seen as an optimization problem on its own as the values of W differ as we change our choice of the importance metrix V. As a result, the problem is rendred non-convex as the following objective function can't contain both W and V as unknown variable subject to optimization:\n",
    "\n",
    "Objective: $$\\min\\left[V\\left(X_1-X_0W\\right)^2\\right]$$\n",
    "\n",
    "A strategy to conserve the DCP rules is to fix one variable to optimize for the other then vice versa, however, the attempt was fruitless as the process didn't converge to a reasonable distribution of weights (all weights were attributed to a single unit)."
   ]
  },
  {
   "cell_type": "code",
   "execution_count": null,
   "metadata": {},
   "outputs": [],
   "source": [
    "#!pip install scipy -U"
   ]
  },
  {
   "cell_type": "code",
   "execution_count": 1,
   "metadata": {},
   "outputs": [],
   "source": [
    "import scipy.optimize"
   ]
  },
  {
   "cell_type": "code",
   "execution_count": 2,
   "metadata": {},
   "outputs": [],
   "source": [
    "import matplotlib.pyplot as plt\n",
    "import pandas as pd\n",
    "import cvxpy as cvx\n",
    "import numpy as np"
   ]
  },
  {
   "cell_type": "markdown",
   "metadata": {},
   "source": [
    "## Processing data"
   ]
  },
  {
   "cell_type": "code",
   "execution_count": 3,
   "metadata": {},
   "outputs": [],
   "source": [
    "data = pd.read_csv('german_reunification.csv')\n",
    "\n",
    "tr_unit = data[data.country == 'West Germany']\n",
    "tr_unit = tr_unit[tr_unit.year < 1990]\n",
    "y_tr = np.array(tr_unit.gdp).reshape(1, 30)\n",
    "\n",
    "ctr_units = data[data.country != 'West Germany']\n",
    "ctr_units = ctr_units[ctr_units.year < 1990]\n",
    "y_ctr = np.array(ctr_units.gdp).reshape(16, 30)\n",
    "\n",
    "tr_unit_all = data[data.country == 'West Germany']\n",
    "y_tr_all = np.array(tr_unit_all.gdp).reshape(1, 44)\n",
    "\n",
    "ctr_units_all = data[data.country != 'West Germany']\n",
    "y_ctr_all = np.array(ctr_units_all.gdp).reshape(16, 44)"
   ]
  },
  {
   "cell_type": "code",
   "execution_count": 4,
   "metadata": {},
   "outputs": [
    {
     "data": {
      "text/plain": [
       "((16, 7), (1, 7))"
      ]
     },
     "execution_count": 4,
     "metadata": {},
     "output_type": "execute_result"
    }
   ],
   "source": [
    "X1 = data[data.country =='West Germany']\n",
    "X1 = X1[X1.year < 1990]\n",
    "X1 = X1.drop(['code','country','gdp', 'year'], axis=1)\n",
    "X1 = X1.set_index(np.arange(len(X1)) // 30).mean(level=0)\n",
    "X1 = X1.values\n",
    "\n",
    "X0 = data[data.country != 'West Germany']\n",
    "X0 = X0[X0.year < 1990]\n",
    "X0 = X0.drop(['code','country','gdp', 'year'], axis=1)\n",
    "X0 = X0.set_index(np.arange(len(X0)) // 30).mean(level=0)\n",
    "X0 = X0.values\n",
    "X0.shape, X1.shape"
   ]
  },
  {
   "cell_type": "markdown",
   "metadata": {},
   "source": [
    "## Part I"
   ]
  },
  {
   "cell_type": "code",
   "execution_count": 5,
   "metadata": {},
   "outputs": [
    {
     "name": "stdout",
     "output_type": "stream",
     "text": [
      "-----------------------------------------------------------------\n",
      "           OSQP v0.6.0  -  Operator Splitting QP Solver\n",
      "              (c) Bartolomeo Stellato,  Goran Banjac\n",
      "        University of Oxford  -  Stanford University 2019\n",
      "-----------------------------------------------------------------\n",
      "problem:  variables n = 23, constraints m = 24\n",
      "          nnz(P) + nnz(A) = 158\n",
      "settings: linear system solver = qdldl,\n",
      "          eps_abs = 1.0e-05, eps_rel = 1.0e-05,\n",
      "          eps_prim_inf = 1.0e-04, eps_dual_inf = 1.0e-04,\n",
      "          rho = 1.00e-01 (adaptive),\n",
      "          sigma = 1.00e-06, alpha = 1.60, max_iter = 10000\n",
      "          check_termination: on (interval 25),\n",
      "          scaling: on, scaled_termination: off\n",
      "          warm start: on, polish: on, time_limit: off\n",
      "\n",
      "iter   objective    pri res    dua res    rho        time\n",
      "   1   0.0000e+00   5.58e+01   1.71e+04   1.00e-01   1.94e-04s\n",
      " 200   2.5574e+01   1.11e-02   8.12e-02   3.01e+00   7.71e-04s\n",
      " 400   3.9777e+01   1.21e-03   9.31e-03   3.01e+00   1.27e-03s\n",
      " 600   4.1633e+01   1.33e-04   1.02e-03   3.01e+00   1.73e-03s\n",
      " 800   4.1839e+01   1.45e-05   1.11e-04   3.01e+00   2.99e-03s\n",
      " 825   4.1845e+01   1.10e-05   8.42e-05   3.01e+00   3.13e-03s\n",
      "plsh   4.1864e+01   2.83e-13   2.96e-13   --------   3.30e-03s\n",
      "\n",
      "status:               solved\n",
      "solution polish:      successful\n",
      "number of iterations: 825\n",
      "optimal objective:    41.8644\n",
      "run time:             3.30e-03s\n",
      "optimal rho estimate: 6.28e+00\n",
      "\n",
      "The optimal objective value:  41.86440556366951 \n",
      "\n",
      "Weights:  [[3.07188776e-01 0.00000000e+00 6.61204978e-01 0.00000000e+00\n",
      "  0.00000000e+00 0.00000000e+00 0.00000000e+00 0.00000000e+00\n",
      "  0.00000000e+00 0.00000000e+00 0.00000000e+00 0.00000000e+00\n",
      "  0.00000000e+00 0.00000000e+00 3.16062464e-02 3.77783640e-17]]\n"
     ]
    }
   ],
   "source": [
    "# Construct the problem\n",
    "w = cvx.Variable((1, 16), nonneg=True)\n",
    "\n",
    "objective = cvx.Minimize(cvx.sum_squares(X1 - w @ X0))\n",
    "\n",
    "constraints = [cvx.sum(w) == 1]\n",
    "\n",
    "prob = cvx.Problem(objective, constraints)\n",
    "\n",
    "# The optimal objective value is returned by prob.solve()\n",
    "result = prob.solve(verbose=True)\n",
    "\n",
    "print('The optimal objective value: ',result,'\\n\\nWeights: ',w.value)"
   ]
  },
  {
   "cell_type": "code",
   "execution_count": 6,
   "metadata": {},
   "outputs": [
    {
     "data": {
      "text/html": [
       "<div>\n",
       "<style scoped>\n",
       "    .dataframe tbody tr th:only-of-type {\n",
       "        vertical-align: middle;\n",
       "    }\n",
       "\n",
       "    .dataframe tbody tr th {\n",
       "        vertical-align: top;\n",
       "    }\n",
       "\n",
       "    .dataframe thead th {\n",
       "        text-align: right;\n",
       "    }\n",
       "</style>\n",
       "<table border=\"1\" class=\"dataframe\">\n",
       "  <thead>\n",
       "    <tr style=\"text-align: right;\">\n",
       "      <th></th>\n",
       "      <th>Country</th>\n",
       "      <th>Weight</th>\n",
       "    </tr>\n",
       "  </thead>\n",
       "  <tbody>\n",
       "    <tr>\n",
       "      <th>0</th>\n",
       "      <td>USA</td>\n",
       "      <td>0.307</td>\n",
       "    </tr>\n",
       "    <tr>\n",
       "      <th>1</th>\n",
       "      <td>UK</td>\n",
       "      <td>0.000</td>\n",
       "    </tr>\n",
       "    <tr>\n",
       "      <th>2</th>\n",
       "      <td>Austria</td>\n",
       "      <td>0.661</td>\n",
       "    </tr>\n",
       "    <tr>\n",
       "      <th>3</th>\n",
       "      <td>Belgium</td>\n",
       "      <td>0.000</td>\n",
       "    </tr>\n",
       "    <tr>\n",
       "      <th>4</th>\n",
       "      <td>Denmark</td>\n",
       "      <td>0.000</td>\n",
       "    </tr>\n",
       "    <tr>\n",
       "      <th>5</th>\n",
       "      <td>France</td>\n",
       "      <td>0.000</td>\n",
       "    </tr>\n",
       "    <tr>\n",
       "      <th>6</th>\n",
       "      <td>Italy</td>\n",
       "      <td>0.000</td>\n",
       "    </tr>\n",
       "    <tr>\n",
       "      <th>7</th>\n",
       "      <td>Netherlands</td>\n",
       "      <td>0.000</td>\n",
       "    </tr>\n",
       "    <tr>\n",
       "      <th>8</th>\n",
       "      <td>Norway</td>\n",
       "      <td>0.000</td>\n",
       "    </tr>\n",
       "    <tr>\n",
       "      <th>9</th>\n",
       "      <td>Switzerland</td>\n",
       "      <td>0.000</td>\n",
       "    </tr>\n",
       "    <tr>\n",
       "      <th>10</th>\n",
       "      <td>Japan</td>\n",
       "      <td>0.000</td>\n",
       "    </tr>\n",
       "    <tr>\n",
       "      <th>11</th>\n",
       "      <td>Greece</td>\n",
       "      <td>0.000</td>\n",
       "    </tr>\n",
       "    <tr>\n",
       "      <th>12</th>\n",
       "      <td>Portugal</td>\n",
       "      <td>0.000</td>\n",
       "    </tr>\n",
       "    <tr>\n",
       "      <th>13</th>\n",
       "      <td>Spain</td>\n",
       "      <td>0.000</td>\n",
       "    </tr>\n",
       "    <tr>\n",
       "      <th>14</th>\n",
       "      <td>Australia</td>\n",
       "      <td>0.032</td>\n",
       "    </tr>\n",
       "    <tr>\n",
       "      <th>15</th>\n",
       "      <td>New Zealand</td>\n",
       "      <td>0.000</td>\n",
       "    </tr>\n",
       "  </tbody>\n",
       "</table>\n",
       "</div>"
      ],
      "text/plain": [
       "        Country  Weight\n",
       "0           USA   0.307\n",
       "1            UK   0.000\n",
       "2       Austria   0.661\n",
       "3       Belgium   0.000\n",
       "4       Denmark   0.000\n",
       "5        France   0.000\n",
       "6         Italy   0.000\n",
       "7   Netherlands   0.000\n",
       "8        Norway   0.000\n",
       "9   Switzerland   0.000\n",
       "10        Japan   0.000\n",
       "11       Greece   0.000\n",
       "12     Portugal   0.000\n",
       "13        Spain   0.000\n",
       "14    Australia   0.032\n",
       "15  New Zealand   0.000"
      ]
     },
     "execution_count": 6,
     "metadata": {},
     "output_type": "execute_result"
    }
   ],
   "source": [
    "result = pd.DataFrame({'Country':data[data.country!='West Germany'].country.unique(), \n",
    "                       'Weight': np.round(w.value[0], decimals=3)})\n",
    "result"
   ]
  },
  {
   "cell_type": "code",
   "execution_count": 7,
   "metadata": {},
   "outputs": [
    {
     "data": {
      "text/html": [
       "<div>\n",
       "<style scoped>\n",
       "    .dataframe tbody tr th:only-of-type {\n",
       "        vertical-align: middle;\n",
       "    }\n",
       "\n",
       "    .dataframe tbody tr th {\n",
       "        vertical-align: top;\n",
       "    }\n",
       "\n",
       "    .dataframe thead th {\n",
       "        text-align: right;\n",
       "    }\n",
       "</style>\n",
       "<table border=\"1\" class=\"dataframe\">\n",
       "  <thead>\n",
       "    <tr style=\"text-align: right;\">\n",
       "      <th></th>\n",
       "      <th>Optimizer</th>\n",
       "      <th>Opt vs Tr</th>\n",
       "      <th>Paper</th>\n",
       "      <th>Paper vs Tr</th>\n",
       "      <th>Treated Unit</th>\n",
       "    </tr>\n",
       "  </thead>\n",
       "  <tbody>\n",
       "    <tr>\n",
       "      <th>infrate</th>\n",
       "      <td>4.775253</td>\n",
       "      <td>1.386404</td>\n",
       "      <td>4.793337</td>\n",
       "      <td>1.404488</td>\n",
       "      <td>3.388849</td>\n",
       "    </tr>\n",
       "    <tr>\n",
       "      <th>trade</th>\n",
       "      <td>46.588107</td>\n",
       "      <td>0.831420</td>\n",
       "      <td>48.260972</td>\n",
       "      <td>2.504285</td>\n",
       "      <td>45.756687</td>\n",
       "    </tr>\n",
       "    <tr>\n",
       "      <th>schooling</th>\n",
       "      <td>50.812894</td>\n",
       "      <td>-4.970439</td>\n",
       "      <td>45.611666</td>\n",
       "      <td>-10.171667</td>\n",
       "      <td>55.783333</td>\n",
       "    </tr>\n",
       "    <tr>\n",
       "      <th>invest60</th>\n",
       "      <td>0.257546</td>\n",
       "      <td>-0.079834</td>\n",
       "      <td>0.277653</td>\n",
       "      <td>-0.059727</td>\n",
       "      <td>0.337380</td>\n",
       "    </tr>\n",
       "    <tr>\n",
       "      <th>invest70</th>\n",
       "      <td>0.291181</td>\n",
       "      <td>-0.034458</td>\n",
       "      <td>0.316638</td>\n",
       "      <td>-0.009002</td>\n",
       "      <td>0.325640</td>\n",
       "    </tr>\n",
       "    <tr>\n",
       "      <th>invest80</th>\n",
       "      <td>25.428058</td>\n",
       "      <td>-1.589940</td>\n",
       "      <td>27.081760</td>\n",
       "      <td>0.063762</td>\n",
       "      <td>27.017998</td>\n",
       "    </tr>\n",
       "    <tr>\n",
       "      <th>industry</th>\n",
       "      <td>36.223929</td>\n",
       "      <td>-3.465587</td>\n",
       "      <td>36.472458</td>\n",
       "      <td>-3.217059</td>\n",
       "      <td>39.689516</td>\n",
       "    </tr>\n",
       "  </tbody>\n",
       "</table>\n",
       "</div>"
      ],
      "text/plain": [
       "           Optimizer  Opt vs Tr      Paper  Paper vs Tr  Treated Unit\n",
       "infrate     4.775253   1.386404   4.793337     1.404488      3.388849\n",
       "trade      46.588107   0.831420  48.260972     2.504285     45.756687\n",
       "schooling  50.812894  -4.970439  45.611666   -10.171667     55.783333\n",
       "invest60    0.257546  -0.079834   0.277653    -0.059727      0.337380\n",
       "invest70    0.291181  -0.034458   0.316638    -0.009002      0.325640\n",
       "invest80   25.428058  -1.589940  27.081760     0.063762     27.017998\n",
       "industry   36.223929  -3.465587  36.472458    -3.217059     39.689516"
      ]
     },
     "execution_count": 7,
     "metadata": {},
     "output_type": "execute_result"
    }
   ],
   "source": [
    "# Comparing between the error of the optimizer fit and the Abadie et. al fit\n",
    "w_opt = np.array([0.22, 0, 0.42, 0, 0, 0, 0, 0.09, 0, 0.11,\n",
    "                  0.16, 0, 0, 0, 0, 0]).reshape(1, 16)\n",
    "\n",
    "data_compare = pd.DataFrame({'Optimizer':(w @ X0).value[0], \n",
    "                             'Opt vs Tr': (w @ X0).value[0] - X1[0],\n",
    "                             'Paper':(w_opt @ X0)[0], \n",
    "                             'Paper vs Tr': (w_opt @ X0)[0] - X1[0],\n",
    "                             'Treated Unit':X1[0]}, index= data.columns[4:])\n",
    "data_compare"
   ]
  },
  {
   "cell_type": "code",
   "execution_count": 8,
   "metadata": {},
   "outputs": [
    {
     "data": {
      "text/plain": [
       "(-7.922435428769463, -9.484920562009224)"
      ]
     },
     "execution_count": 8,
     "metadata": {},
     "output_type": "execute_result"
    }
   ],
   "source": [
    "sum((w.value @ X0 - X1)[0]), sum((w_opt @ X0 - X1)[0])"
   ]
  },
  {
   "cell_type": "code",
   "execution_count": 9,
   "metadata": {},
   "outputs": [
    {
     "data": {
      "image/png": "[encoded data removed]",
      "text/plain": [
       "<Figure size 864x432 with 1 Axes>"
      ]
     },
     "metadata": {
      "needs_background": "light"
     },
     "output_type": "display_data"
    }
   ],
   "source": [
    "plt.figure(figsize=(12, 6))\n",
    "plt.plot(list(range(1960, 1990)), w.value[0] @ y_ctr, label='Optimizer')\n",
    "#plt.plot(np.array(range(1960, 1990)), (w_opt @ y_ctr)[0], label='Paper')\n",
    "plt.plot(list(range(1960, 1990)), y_tr[0], label='Treated unit')\n",
    "plt.legend()\n",
    "plt.show()"
   ]
  },
  {
   "cell_type": "code",
   "execution_count": 10,
   "metadata": {},
   "outputs": [
    {
     "data": {
      "image/png": "[encoded data removed]",
      "text/plain": [
       "<Figure size 648x504 with 1 Axes>"
      ]
     },
     "metadata": {
      "needs_background": "light"
     },
     "output_type": "display_data"
    }
   ],
   "source": [
    "plt.figure(figsize=(9, 7))\n",
    "plt.plot(list(data.year.unique()), w.value[0] @ y_ctr_all, label='Optimizer')\n",
    "#plt.plot(list(data.year.unique()), (w_opt @ y_ctr_all)[0], label='Paper')\n",
    "plt.plot(list(data.year.unique()), y_tr_all[0], label='Treated unit')\n",
    "plt.axvline(1990, color='red', linewidth=.7, linestyle=':')\n",
    "plt.legend()\n",
    "plt.show()"
   ]
  },
  {
   "cell_type": "markdown",
   "metadata": {},
   "source": [
    "## Part II"
   ]
  },
  {
   "cell_type": "code",
   "execution_count": 11,
   "metadata": {},
   "outputs": [],
   "source": [
    "# All covariates\n",
    "\n",
    "X0_T = (X0.T)\n",
    "X0_T = np.array(X0_T).reshape(7, 16)\n",
    "X1_T = (X1.T)\n",
    "X1_T = np.array(X1_T).reshape(7, 1)\n",
    "\n",
    "y_ctr_T = y_ctr.reshape(30, 16)\n",
    "y_tr_T = y_tr.reshape(30, 1)"
   ]
  },
  {
   "cell_type": "code",
   "execution_count": 12,
   "metadata": {},
   "outputs": [],
   "source": [
    "def total_loss(V_diag, details=False):\n",
    "    ''' \n",
    "    Finds W that minimizes total loss given V,\n",
    "    Returns total loss\n",
    "    '''\n",
    "    V = np.zeros(shape=(7, 7))\n",
    "    np.fill_diagonal(V, V_diag)\n",
    "    # Construct the problem\n",
    "    w = cvx.Variable((16, 1), nonneg=True)\n",
    "    objective = cvx.Minimize(cvx.sum(V @ cvx.square(X1_T - X0_T @ w)))\n",
    "    constraints = [cvx.sum(w) == 1]\n",
    "    problem = cvx.Problem(objective, constraints)\n",
    "    result = problem.solve(verbose=details)\n",
    "\n",
    "    return float((y_tr_T - y_ctr_T @ w.value).T @ (y_tr_T - y_ctr_T @ w.value)), w"
   ]
  },
  {
   "cell_type": "markdown",
   "metadata": {},
   "source": [
    "### Generating random V"
   ]
  },
  {
   "cell_type": "code",
   "execution_count": 13,
   "metadata": {},
   "outputs": [
    {
     "name": "stdout",
     "output_type": "stream",
     "text": [
      "10.0%\n",
      "20.0%\n",
      "30.0%\n",
      "40.0%\n",
      "50.0%\n",
      "60.0%\n",
      "70.0%\n",
      "80.0%\n",
      "90.0%\n",
      "100.0%\n"
     ]
    }
   ],
   "source": [
    "# Helpless attempt to avoid the DCP rules\n",
    "record = []\n",
    "for i in range(1000):\n",
    "    if (i+1)%100 == 0: print('{}%'.format((i+1)/10))\n",
    "    new_V = np.random.dirichlet(np.ones(7), size=1)\n",
    "    record.append([total_loss(new_V)[0], new_V])"
   ]
  },
  {
   "cell_type": "code",
   "execution_count": 81,
   "metadata": {},
   "outputs": [
    {
     "data": {
      "text/html": [
       "<div>\n",
       "<style scoped>\n",
       "    .dataframe tbody tr th:only-of-type {\n",
       "        vertical-align: middle;\n",
       "    }\n",
       "\n",
       "    .dataframe tbody tr th {\n",
       "        vertical-align: top;\n",
       "    }\n",
       "\n",
       "    .dataframe thead th {\n",
       "        text-align: right;\n",
       "    }\n",
       "</style>\n",
       "<table border=\"1\" class=\"dataframe\">\n",
       "  <thead>\n",
       "    <tr style=\"text-align: right;\">\n",
       "      <th></th>\n",
       "      <th>index</th>\n",
       "      <th>Error</th>\n",
       "      <th>Importance</th>\n",
       "    </tr>\n",
       "  </thead>\n",
       "  <tbody>\n",
       "    <tr>\n",
       "      <th>0</th>\n",
       "      <td>801</td>\n",
       "      <td>9.942145e+08</td>\n",
       "      <td>[[0.0005087338248272876, 0.1500022324198057, 0...</td>\n",
       "    </tr>\n",
       "    <tr>\n",
       "      <th>1</th>\n",
       "      <td>242</td>\n",
       "      <td>9.942828e+08</td>\n",
       "      <td>[[0.03737206256530346, 0.2874155630356025, 0.3...</td>\n",
       "    </tr>\n",
       "    <tr>\n",
       "      <th>2</th>\n",
       "      <td>871</td>\n",
       "      <td>9.962772e+08</td>\n",
       "      <td>[[0.02503715369817736, 0.40454433179072724, 0....</td>\n",
       "    </tr>\n",
       "    <tr>\n",
       "      <th>3</th>\n",
       "      <td>685</td>\n",
       "      <td>9.964648e+08</td>\n",
       "      <td>[[0.17318516352589805, 0.19364976271483597, 0....</td>\n",
       "    </tr>\n",
       "    <tr>\n",
       "      <th>4</th>\n",
       "      <td>950</td>\n",
       "      <td>9.969772e+08</td>\n",
       "      <td>[[0.04774285487534092, 0.20207675081546259, 0....</td>\n",
       "    </tr>\n",
       "    <tr>\n",
       "      <th>5</th>\n",
       "      <td>144</td>\n",
       "      <td>9.972595e+08</td>\n",
       "      <td>[[0.036155841489130564, 0.06906128735274225, 0...</td>\n",
       "    </tr>\n",
       "    <tr>\n",
       "      <th>6</th>\n",
       "      <td>430</td>\n",
       "      <td>9.991098e+08</td>\n",
       "      <td>[[0.04555884737334239, 0.19507913975791022, 0....</td>\n",
       "    </tr>\n",
       "    <tr>\n",
       "      <th>7</th>\n",
       "      <td>14</td>\n",
       "      <td>1.000229e+09</td>\n",
       "      <td>[[0.051144883654545385, 0.13424315261686, 0.48...</td>\n",
       "    </tr>\n",
       "    <tr>\n",
       "      <th>8</th>\n",
       "      <td>679</td>\n",
       "      <td>1.000793e+09</td>\n",
       "      <td>[[0.11099965375990348, 0.08697207154132884, 0....</td>\n",
       "    </tr>\n",
       "    <tr>\n",
       "      <th>9</th>\n",
       "      <td>358</td>\n",
       "      <td>1.001793e+09</td>\n",
       "      <td>[[0.08570762477636173, 0.07274630890877992, 0....</td>\n",
       "    </tr>\n",
       "  </tbody>\n",
       "</table>\n",
       "</div>"
      ],
      "text/plain": [
       "   index         Error                                         Importance\n",
       "0    801  9.942145e+08  [[0.0005087338248272876, 0.1500022324198057, 0...\n",
       "1    242  9.942828e+08  [[0.03737206256530346, 0.2874155630356025, 0.3...\n",
       "2    871  9.962772e+08  [[0.02503715369817736, 0.40454433179072724, 0....\n",
       "3    685  9.964648e+08  [[0.17318516352589805, 0.19364976271483597, 0....\n",
       "4    950  9.969772e+08  [[0.04774285487534092, 0.20207675081546259, 0....\n",
       "5    144  9.972595e+08  [[0.036155841489130564, 0.06906128735274225, 0...\n",
       "6    430  9.991098e+08  [[0.04555884737334239, 0.19507913975791022, 0....\n",
       "7     14  1.000229e+09  [[0.051144883654545385, 0.13424315261686, 0.48...\n",
       "8    679  1.000793e+09  [[0.11099965375990348, 0.08697207154132884, 0....\n",
       "9    358  1.001793e+09  [[0.08570762477636173, 0.07274630890877992, 0...."
      ]
     },
     "execution_count": 81,
     "metadata": {},
     "output_type": "execute_result"
    }
   ],
   "source": [
    "results = pd.DataFrame(record, columns=['Error', 'Importance'])\\\n",
    "            .sort_values(by='Error', ascending=True)\n",
    "results = results.reset_index()\n",
    "results.head(10)"
   ]
  },
  {
   "cell_type": "code",
   "execution_count": 83,
   "metadata": {},
   "outputs": [
    {
     "name": "stdout",
     "output_type": "stream",
     "text": [
      "-----------------------------------------------------------------\n",
      "           OSQP v0.6.0  -  Operator Splitting QP Solver\n",
      "              (c) Bartolomeo Stellato,  Goran Banjac\n",
      "        University of Oxford  -  Stanford University 2019\n",
      "-----------------------------------------------------------------\n",
      "problem:  variables n = 23, constraints m = 24\n",
      "          nnz(P) + nnz(A) = 158\n",
      "settings: linear system solver = qdldl,\n",
      "          eps_abs = 1.0e-05, eps_rel = 1.0e-05,\n",
      "          eps_prim_inf = 1.0e-04, eps_dual_inf = 1.0e-04,\n",
      "          rho = 1.00e-01 (adaptive),\n",
      "          sigma = 1.00e-06, alpha = 1.60, max_iter = 10000\n",
      "          check_termination: on (interval 25),\n",
      "          scaling: on, scaled_termination: off\n",
      "          warm start: on, polish: on, time_limit: off\n",
      "\n",
      "iter   objective    pri res    dua res    rho        time\n",
      "   1   0.0000e+00   5.58e+01   2.16e+08   1.00e-01   1.33e-04s\n",
      " 200   6.6906e+06   8.53e-02   1.02e+04   2.28e+01   4.41e-04s\n",
      " 400   2.0543e+08   7.01e-02   1.79e+05   2.73e+03   7.49e-04s\n",
      " 600   9.7860e+08   5.93e-02   1.56e+05   2.73e+03   1.05e-03s\n",
      " 800   2.1213e+09   5.05e-02   1.33e+05   2.73e+03   1.56e-03s\n",
      "1000   3.2009e+09   4.52e-02   7.43e+04   2.73e+03   1.86e-03s\n",
      "1200   5.3985e+09   3.76e-02   6.23e+05   1.42e+04   2.17e-03s\n",
      "1400   8.0430e+09   3.17e-02   5.31e+05   1.42e+04   2.47e-03s\n",
      "1600   1.1081e+10   2.68e-02   4.49e+05   1.42e+04   2.82e-03s\n",
      "1800   1.4470e+10   2.27e-02   1.18e+06   1.42e+04   3.13e-03s\n",
      "2000   1.8158e+10   1.85e-02   1.00e+06   1.42e+04   3.41e-03s\n",
      "2200   2.1478e+10   1.50e-02   8.15e+05   1.42e+04   3.69e-03s\n",
      "2400   2.3537e+10   1.28e-02   1.96e+05   1.42e+04   4.04e-03s\n",
      "2600   2.4997e+10   1.15e-02   1.94e+05   1.42e+04   4.39e-03s\n",
      "2800   2.6355e+10   1.03e-02   1.75e+05   1.42e+04   4.78e-03s\n",
      "3000   2.7634e+10   9.31e-03   1.58e+05   1.42e+04   5.15e-03s\n",
      "3200   2.8832e+10   8.38e-03   1.42e+05   1.42e+04   5.60e-03s\n",
      "3400   2.9948e+10   7.55e-03   1.28e+05   1.42e+04   6.08e-03s\n",
      "3600   3.0983e+10   6.79e-03   1.15e+05   1.42e+04   6.51e-03s\n",
      "3800   3.1940e+10   6.11e-03   1.04e+05   1.42e+04   7.17e-03s\n",
      "4000   3.2821e+10   5.50e-03   9.34e+04   1.42e+04   7.47e-03s\n",
      "4200   3.3631e+10   4.95e-03   8.40e+04   1.42e+04   7.77e-03s\n",
      "4400   3.4373e+10   4.46e-03   7.56e+04   1.42e+04   8.08e-03s\n",
      "4600   3.5051e+10   4.01e-03   6.81e+04   1.42e+04   8.35e-03s\n",
      "4800   3.5671e+10   3.61e-03   6.13e+04   1.42e+04   8.62e-03s\n",
      "5000   3.6235e+10   3.25e-03   5.52e+04   1.42e+04   8.89e-03s\n",
      "5200   3.6749e+10   2.93e-03   4.96e+04   1.42e+04   9.17e-03s\n",
      "5400   3.7216e+10   2.63e-03   4.47e+04   1.42e+04   9.68e-03s\n",
      "5600   3.7640e+10   2.37e-03   4.02e+04   1.42e+04   9.98e-03s\n",
      "5800   3.8025e+10   2.13e-03   3.62e+04   1.42e+04   1.03e-02s\n",
      "6000   3.8374e+10   1.92e-03   3.26e+04   1.42e+04   1.06e-02s\n",
      "6200   3.8690e+10   1.73e-03   2.93e+04   1.42e+04   1.09e-02s\n",
      "6400   3.8976e+10   1.56e-03   2.64e+04   1.42e+04   1.11e-02s\n",
      "6600   3.9235e+10   1.40e-03   2.38e+04   1.42e+04   1.14e-02s\n",
      "6800   3.9469e+10   1.26e-03   2.14e+04   1.42e+04   1.17e-02s\n",
      "7000   3.9680e+10   1.13e-03   1.93e+04   1.42e+04   1.20e-02s\n",
      "7200   3.9871e+10   1.02e-03   1.73e+04   1.42e+04   1.23e-02s\n",
      "7400   4.0044e+10   9.19e-04   1.56e+04   1.42e+04   1.26e-02s\n",
      "7600   4.0200e+10   8.28e-04   1.40e+04   1.42e+04   1.29e-02s\n",
      "7800   4.0340e+10   7.45e-04   1.26e+04   1.42e+04   1.32e-02s\n",
      "8000   4.0467e+10   6.70e-04   1.14e+04   1.42e+04   1.36e-02s\n",
      "8200   4.0581e+10   6.03e-04   1.02e+04   1.42e+04   1.40e-02s\n",
      "8325   4.0647e+10   5.65e-04   9.59e+03   1.42e+04   1.42e-02s\n",
      "\n",
      "status:               solved\n",
      "solution polish:      unsuccessful\n",
      "number of iterations: 8325\n",
      "optimal objective:    40647136747.7540\n",
      "run time:             1.43e-02s\n",
      "optimal rho estimate: 3.51e+04\n",
      "\n"
     ]
    },
    {
     "data": {
      "text/html": [
       "<div>\n",
       "<style scoped>\n",
       "    .dataframe tbody tr th:only-of-type {\n",
       "        vertical-align: middle;\n",
       "    }\n",
       "\n",
       "    .dataframe tbody tr th {\n",
       "        vertical-align: top;\n",
       "    }\n",
       "\n",
       "    .dataframe thead th {\n",
       "        text-align: right;\n",
       "    }\n",
       "</style>\n",
       "<table border=\"1\" class=\"dataframe\">\n",
       "  <thead>\n",
       "    <tr style=\"text-align: right;\">\n",
       "      <th></th>\n",
       "      <th>Country</th>\n",
       "      <th>Weight</th>\n",
       "    </tr>\n",
       "  </thead>\n",
       "  <tbody>\n",
       "    <tr>\n",
       "      <th>0</th>\n",
       "      <td>USA</td>\n",
       "      <td>0.305</td>\n",
       "    </tr>\n",
       "    <tr>\n",
       "      <th>1</th>\n",
       "      <td>UK</td>\n",
       "      <td>0.000</td>\n",
       "    </tr>\n",
       "    <tr>\n",
       "      <th>2</th>\n",
       "      <td>Austria</td>\n",
       "      <td>0.662</td>\n",
       "    </tr>\n",
       "    <tr>\n",
       "      <th>3</th>\n",
       "      <td>Belgium</td>\n",
       "      <td>0.000</td>\n",
       "    </tr>\n",
       "    <tr>\n",
       "      <th>4</th>\n",
       "      <td>Denmark</td>\n",
       "      <td>0.000</td>\n",
       "    </tr>\n",
       "    <tr>\n",
       "      <th>5</th>\n",
       "      <td>France</td>\n",
       "      <td>0.000</td>\n",
       "    </tr>\n",
       "    <tr>\n",
       "      <th>6</th>\n",
       "      <td>Italy</td>\n",
       "      <td>0.000</td>\n",
       "    </tr>\n",
       "    <tr>\n",
       "      <th>7</th>\n",
       "      <td>Netherlands</td>\n",
       "      <td>0.000</td>\n",
       "    </tr>\n",
       "    <tr>\n",
       "      <th>8</th>\n",
       "      <td>Norway</td>\n",
       "      <td>0.000</td>\n",
       "    </tr>\n",
       "    <tr>\n",
       "      <th>9</th>\n",
       "      <td>Switzerland</td>\n",
       "      <td>0.000</td>\n",
       "    </tr>\n",
       "    <tr>\n",
       "      <th>10</th>\n",
       "      <td>Japan</td>\n",
       "      <td>0.000</td>\n",
       "    </tr>\n",
       "    <tr>\n",
       "      <th>11</th>\n",
       "      <td>Greece</td>\n",
       "      <td>0.000</td>\n",
       "    </tr>\n",
       "    <tr>\n",
       "      <th>12</th>\n",
       "      <td>Portugal</td>\n",
       "      <td>0.000</td>\n",
       "    </tr>\n",
       "    <tr>\n",
       "      <th>13</th>\n",
       "      <td>Spain</td>\n",
       "      <td>0.000</td>\n",
       "    </tr>\n",
       "    <tr>\n",
       "      <th>14</th>\n",
       "      <td>Australia</td>\n",
       "      <td>0.036</td>\n",
       "    </tr>\n",
       "    <tr>\n",
       "      <th>15</th>\n",
       "      <td>New Zealand</td>\n",
       "      <td>0.000</td>\n",
       "    </tr>\n",
       "  </tbody>\n",
       "</table>\n",
       "</div>"
      ],
      "text/plain": [
       "        Country  Weight\n",
       "0           USA   0.305\n",
       "1            UK   0.000\n",
       "2       Austria   0.662\n",
       "3       Belgium   0.000\n",
       "4       Denmark   0.000\n",
       "5        France   0.000\n",
       "6         Italy   0.000\n",
       "7   Netherlands   0.000\n",
       "8        Norway   0.000\n",
       "9   Switzerland   0.000\n",
       "10        Japan   0.000\n",
       "11       Greece   0.000\n",
       "12     Portugal   0.000\n",
       "13        Spain   0.000\n",
       "14    Australia   0.036\n",
       "15  New Zealand   0.000"
      ]
     },
     "execution_count": 83,
     "metadata": {},
     "output_type": "execute_result"
    }
   ],
   "source": [
    "W = total_loss(results.iloc[0][1], details=True)[1].value\n",
    "\n",
    "pd.DataFrame({'Country':data[data.country!='West Germany'].country.unique(), \n",
    "              'Weight': np.round(W.T[0], decimals=3)})"
   ]
  },
  {
   "cell_type": "code",
   "execution_count": 84,
   "metadata": {},
   "outputs": [
    {
     "data": {
      "text/html": [
       "<div>\n",
       "<style scoped>\n",
       "    .dataframe tbody tr th:only-of-type {\n",
       "        vertical-align: middle;\n",
       "    }\n",
       "\n",
       "    .dataframe tbody tr th {\n",
       "        vertical-align: top;\n",
       "    }\n",
       "\n",
       "    .dataframe thead th {\n",
       "        text-align: right;\n",
       "    }\n",
       "</style>\n",
       "<table border=\"1\" class=\"dataframe\">\n",
       "  <thead>\n",
       "    <tr style=\"text-align: right;\">\n",
       "      <th></th>\n",
       "      <th>Covariate</th>\n",
       "      <th>Weight</th>\n",
       "    </tr>\n",
       "  </thead>\n",
       "  <tbody>\n",
       "    <tr>\n",
       "      <th>0</th>\n",
       "      <td>infrate</td>\n",
       "      <td>0.001</td>\n",
       "    </tr>\n",
       "    <tr>\n",
       "      <th>1</th>\n",
       "      <td>trade</td>\n",
       "      <td>0.150</td>\n",
       "    </tr>\n",
       "    <tr>\n",
       "      <th>2</th>\n",
       "      <td>schooling</td>\n",
       "      <td>0.077</td>\n",
       "    </tr>\n",
       "    <tr>\n",
       "      <th>3</th>\n",
       "      <td>invest60</td>\n",
       "      <td>0.559</td>\n",
       "    </tr>\n",
       "    <tr>\n",
       "      <th>4</th>\n",
       "      <td>invest70</td>\n",
       "      <td>0.172</td>\n",
       "    </tr>\n",
       "    <tr>\n",
       "      <th>5</th>\n",
       "      <td>invest80</td>\n",
       "      <td>0.022</td>\n",
       "    </tr>\n",
       "    <tr>\n",
       "      <th>6</th>\n",
       "      <td>industry</td>\n",
       "      <td>0.020</td>\n",
       "    </tr>\n",
       "  </tbody>\n",
       "</table>\n",
       "</div>"
      ],
      "text/plain": [
       "   Covariate  Weight\n",
       "0    infrate   0.001\n",
       "1      trade   0.150\n",
       "2  schooling   0.077\n",
       "3   invest60   0.559\n",
       "4   invest70   0.172\n",
       "5   invest80   0.022\n",
       "6   industry   0.020"
      ]
     },
     "execution_count": 84,
     "metadata": {},
     "output_type": "execute_result"
    }
   ],
   "source": [
    "pd.DataFrame({'Covariate': data.columns[4:], \n",
    "              'Weight': np.round(results['Importance'][0][0], 3)})"
   ]
  },
  {
   "cell_type": "code",
   "execution_count": 85,
   "metadata": {},
   "outputs": [
    {
     "data": {
      "image/png": "[encoded data removed]",
      "text/plain": [
       "<Figure size 864x432 with 1 Axes>"
      ]
     },
     "metadata": {
      "needs_background": "light"
     },
     "output_type": "display_data"
    }
   ],
   "source": [
    "plt.figure(figsize=(12, 6))\n",
    "plt.plot(list(range(1960, 1990)), (W.T @ y_ctr)[0], label='Optimizer')\n",
    "#plt.plot(np.array(range(1960, 1990)), (w_opt @ y_ctr)[0], label='Paper')\n",
    "plt.plot(list(range(1960, 1990)), y_tr[0], label='Treated unit')\n",
    "plt.legend()\n",
    "plt.show()"
   ]
  },
  {
   "cell_type": "code",
   "execution_count": 86,
   "metadata": {},
   "outputs": [
    {
     "data": {
      "image/png": "[encoded data removed]",
      "text/plain": [
       "<Figure size 648x504 with 1 Axes>"
      ]
     },
     "metadata": {
      "needs_background": "light"
     },
     "output_type": "display_data"
    }
   ],
   "source": [
    "plt.figure(figsize=(9, 7))\n",
    "plt.plot(list(data.year.unique()), (W.T @ y_ctr_all)[0], label='Optimizer')\n",
    "#plt.plot(list(data.year.unique()), (w_opt @ y_ctr_all)[0], label='Paper')\n",
    "plt.plot(list(data.year.unique()), y_tr_all[0], label='Treated unit')\n",
    "plt.axvline(1990, color='red', linewidth=.7, linestyle=':')\n",
    "plt.legend()\n",
    "plt.show()"
   ]
  },
  {
   "cell_type": "code",
   "execution_count": 87,
   "metadata": {},
   "outputs": [
    {
     "data": {
      "text/html": [
       "<div>\n",
       "<style scoped>\n",
       "    .dataframe tbody tr th:only-of-type {\n",
       "        vertical-align: middle;\n",
       "    }\n",
       "\n",
       "    .dataframe tbody tr th {\n",
       "        vertical-align: top;\n",
       "    }\n",
       "\n",
       "    .dataframe thead th {\n",
       "        text-align: right;\n",
       "    }\n",
       "</style>\n",
       "<table border=\"1\" class=\"dataframe\">\n",
       "  <thead>\n",
       "    <tr style=\"text-align: right;\">\n",
       "      <th></th>\n",
       "      <th>Optimizer</th>\n",
       "      <th>Opt vs Tr</th>\n",
       "      <th>Paper</th>\n",
       "      <th>Paper vs Tr</th>\n",
       "      <th>Treated Unit</th>\n",
       "    </tr>\n",
       "  </thead>\n",
       "  <tbody>\n",
       "    <tr>\n",
       "      <th>infrate</th>\n",
       "      <td>4.799544</td>\n",
       "      <td>1.410694</td>\n",
       "      <td>4.793337</td>\n",
       "      <td>1.404488</td>\n",
       "      <td>3.388849</td>\n",
       "    </tr>\n",
       "    <tr>\n",
       "      <th>trade</th>\n",
       "      <td>46.725660</td>\n",
       "      <td>0.968973</td>\n",
       "      <td>48.260972</td>\n",
       "      <td>2.504285</td>\n",
       "      <td>45.756687</td>\n",
       "    </tr>\n",
       "    <tr>\n",
       "      <th>schooling</th>\n",
       "      <td>50.961441</td>\n",
       "      <td>-4.821892</td>\n",
       "      <td>45.611666</td>\n",
       "      <td>-10.171667</td>\n",
       "      <td>55.783333</td>\n",
       "    </tr>\n",
       "    <tr>\n",
       "      <th>invest60</th>\n",
       "      <td>0.258649</td>\n",
       "      <td>-0.078731</td>\n",
       "      <td>0.277653</td>\n",
       "      <td>-0.059727</td>\n",
       "      <td>0.337380</td>\n",
       "    </tr>\n",
       "    <tr>\n",
       "      <th>invest70</th>\n",
       "      <td>0.292291</td>\n",
       "      <td>-0.033349</td>\n",
       "      <td>0.316638</td>\n",
       "      <td>-0.009002</td>\n",
       "      <td>0.325640</td>\n",
       "    </tr>\n",
       "    <tr>\n",
       "      <th>invest80</th>\n",
       "      <td>25.531910</td>\n",
       "      <td>-1.486088</td>\n",
       "      <td>27.081760</td>\n",
       "      <td>0.063762</td>\n",
       "      <td>27.017998</td>\n",
       "    </tr>\n",
       "    <tr>\n",
       "      <th>industry</th>\n",
       "      <td>36.336928</td>\n",
       "      <td>-3.352588</td>\n",
       "      <td>36.472458</td>\n",
       "      <td>-3.217059</td>\n",
       "      <td>39.689516</td>\n",
       "    </tr>\n",
       "  </tbody>\n",
       "</table>\n",
       "</div>"
      ],
      "text/plain": [
       "           Optimizer  Opt vs Tr      Paper  Paper vs Tr  Treated Unit\n",
       "infrate     4.799544   1.410694   4.793337     1.404488      3.388849\n",
       "trade      46.725660   0.968973  48.260972     2.504285     45.756687\n",
       "schooling  50.961441  -4.821892  45.611666   -10.171667     55.783333\n",
       "invest60    0.258649  -0.078731   0.277653    -0.059727      0.337380\n",
       "invest70    0.292291  -0.033349   0.316638    -0.009002      0.325640\n",
       "invest80   25.531910  -1.486088  27.081760     0.063762     27.017998\n",
       "industry   36.336928  -3.352588  36.472458    -3.217059     39.689516"
      ]
     },
     "execution_count": 87,
     "metadata": {},
     "output_type": "execute_result"
    }
   ],
   "source": [
    "# Comparing between the error of the optimizer fit and the Abadie et. al fit\n",
    "data_compare = pd.DataFrame({'Optimizer':(W.T @ X0)[0], \n",
    "                             'Opt vs Tr': (W.T @ X0 - X1)[0],\n",
    "                             'Paper':(w_opt @ X0)[0], \n",
    "                             'Paper vs Tr': (w_opt @ X0 - X1)[0],\n",
    "                             'Treated Unit':X1[0]}, index= data.columns[4:])\n",
    "data_compare"
   ]
  },
  {
   "cell_type": "code",
   "execution_count": 88,
   "metadata": {},
   "outputs": [
    {
     "data": {
      "text/plain": [
       "(-7.392982155039553, -9.484920562009224)"
      ]
     },
     "execution_count": 88,
     "metadata": {},
     "output_type": "execute_result"
    }
   ],
   "source": [
    "sum((W.T @ X0 - X1)[0]), sum((w_opt @ X0 - X1)[0])"
   ]
  },
  {
   "cell_type": "markdown",
   "metadata": {},
   "source": [
    "### Differential evolution"
   ]
  },
  {
   "cell_type": "code",
   "execution_count": 90,
   "metadata": {},
   "outputs": [],
   "source": [
    "def total_loss_func(V_diag):\n",
    "    ''' \n",
    "    Finds W that minimizes total loss given V,\n",
    "    Returns total loss\n",
    "    '''\n",
    "    V = np.zeros(shape=(7, 7))\n",
    "    np.fill_diagonal(V, V_diag)\n",
    "    # Construct the problem\n",
    "    w = cvx.Variable((16, 1), nonneg=True)\n",
    "    objective = cvx.Minimize(cvx.sum(V @ cvx.square(X1_T - X0_T @ w)))\n",
    "    constraints = [cvx.sum(w) == 10]\n",
    "    problem = cvx.Problem(objective, constraints)\n",
    "    result = problem.solve(verbose=False)\n",
    "\n",
    "    return float((y_tr_T - y_ctr_T @ w.value).T @ (y_tr_T - y_ctr_T @ w.value))"
   ]
  },
  {
   "cell_type": "code",
   "execution_count": 91,
   "metadata": {},
   "outputs": [
    {
     "data": {
      "text/plain": [
       "'1.37e+11'"
      ]
     },
     "execution_count": 91,
     "metadata": {},
     "output_type": "execute_result"
    }
   ],
   "source": [
    "from scipy.optimize import differential_evolution\n",
    "bounds = [(0, 1), (0, 1), (0, 1), (0, 1), (0, 1), (0, 1), (0, 1)]\n",
    "\n",
    "#def constr_f(x): return np.sum(x)\n",
    "#lc = NonlinearConstraint(constr_f, 0, 1)\n",
    "#result = scipy.optimize.differential_evolution(total_loss_func, bounds, constraints=(lc))\n",
    "\n",
    "result = differential_evolution(total_loss_func, bounds)\n",
    "\n",
    "'{:.2e}'.format(result.fun)"
   ]
  },
  {
   "cell_type": "code",
   "execution_count": 92,
   "metadata": {},
   "outputs": [
    {
     "data": {
      "text/plain": [
       "array([0.19968234, 0.17683611, 0.05457288, 0.2129696 , 0.18835117,\n",
       "       0.13476584, 0.03282207])"
      ]
     },
     "execution_count": 92,
     "metadata": {},
     "output_type": "execute_result"
    }
   ],
   "source": [
    "gen_V = result.x / np.sum(result.x)\n",
    "gen_V"
   ]
  },
  {
   "cell_type": "code",
   "execution_count": 98,
   "metadata": {},
   "outputs": [
    {
     "data": {
      "text/html": [
       "<div>\n",
       "<style scoped>\n",
       "    .dataframe tbody tr th:only-of-type {\n",
       "        vertical-align: middle;\n",
       "    }\n",
       "\n",
       "    .dataframe tbody tr th {\n",
       "        vertical-align: top;\n",
       "    }\n",
       "\n",
       "    .dataframe thead th {\n",
       "        text-align: right;\n",
       "    }\n",
       "</style>\n",
       "<table border=\"1\" class=\"dataframe\">\n",
       "  <thead>\n",
       "    <tr style=\"text-align: right;\">\n",
       "      <th></th>\n",
       "      <th>Covariate</th>\n",
       "      <th>Weight</th>\n",
       "    </tr>\n",
       "  </thead>\n",
       "  <tbody>\n",
       "    <tr>\n",
       "      <th>0</th>\n",
       "      <td>infrate</td>\n",
       "      <td>0.200</td>\n",
       "    </tr>\n",
       "    <tr>\n",
       "      <th>1</th>\n",
       "      <td>trade</td>\n",
       "      <td>0.177</td>\n",
       "    </tr>\n",
       "    <tr>\n",
       "      <th>2</th>\n",
       "      <td>schooling</td>\n",
       "      <td>0.055</td>\n",
       "    </tr>\n",
       "    <tr>\n",
       "      <th>3</th>\n",
       "      <td>invest60</td>\n",
       "      <td>0.213</td>\n",
       "    </tr>\n",
       "    <tr>\n",
       "      <th>4</th>\n",
       "      <td>invest70</td>\n",
       "      <td>0.188</td>\n",
       "    </tr>\n",
       "    <tr>\n",
       "      <th>5</th>\n",
       "      <td>invest80</td>\n",
       "      <td>0.135</td>\n",
       "    </tr>\n",
       "    <tr>\n",
       "      <th>6</th>\n",
       "      <td>industry</td>\n",
       "      <td>0.033</td>\n",
       "    </tr>\n",
       "  </tbody>\n",
       "</table>\n",
       "</div>"
      ],
      "text/plain": [
       "   Covariate  Weight\n",
       "0    infrate   0.200\n",
       "1      trade   0.177\n",
       "2  schooling   0.055\n",
       "3   invest60   0.213\n",
       "4   invest70   0.188\n",
       "5   invest80   0.135\n",
       "6   industry   0.033"
      ]
     },
     "execution_count": 98,
     "metadata": {},
     "output_type": "execute_result"
    }
   ],
   "source": [
    "pd.DataFrame({'Covariate': data.columns[4:], \n",
    "              'Weight': np.round(gen_V, 3)})"
   ]
  },
  {
   "cell_type": "code",
   "execution_count": 93,
   "metadata": {},
   "outputs": [
    {
     "data": {
      "text/plain": [
       "'1.36e+09'"
      ]
     },
     "execution_count": 93,
     "metadata": {},
     "output_type": "execute_result"
    }
   ],
   "source": [
    "'{:.2e}'.format(total_loss(gen_V)[0])"
   ]
  },
  {
   "cell_type": "code",
   "execution_count": 100,
   "metadata": {},
   "outputs": [
    {
     "data": {
      "text/html": [
       "<div>\n",
       "<style scoped>\n",
       "    .dataframe tbody tr th:only-of-type {\n",
       "        vertical-align: middle;\n",
       "    }\n",
       "\n",
       "    .dataframe tbody tr th {\n",
       "        vertical-align: top;\n",
       "    }\n",
       "\n",
       "    .dataframe thead th {\n",
       "        text-align: right;\n",
       "    }\n",
       "</style>\n",
       "<table border=\"1\" class=\"dataframe\">\n",
       "  <thead>\n",
       "    <tr style=\"text-align: right;\">\n",
       "      <th></th>\n",
       "      <th>Country</th>\n",
       "      <th>Weight</th>\n",
       "    </tr>\n",
       "  </thead>\n",
       "  <tbody>\n",
       "    <tr>\n",
       "      <th>0</th>\n",
       "      <td>USA</td>\n",
       "      <td>0.283</td>\n",
       "    </tr>\n",
       "    <tr>\n",
       "      <th>1</th>\n",
       "      <td>UK</td>\n",
       "      <td>0.000</td>\n",
       "    </tr>\n",
       "    <tr>\n",
       "      <th>2</th>\n",
       "      <td>Austria</td>\n",
       "      <td>0.630</td>\n",
       "    </tr>\n",
       "    <tr>\n",
       "      <th>3</th>\n",
       "      <td>Belgium</td>\n",
       "      <td>0.000</td>\n",
       "    </tr>\n",
       "    <tr>\n",
       "      <th>4</th>\n",
       "      <td>Denmark</td>\n",
       "      <td>0.000</td>\n",
       "    </tr>\n",
       "    <tr>\n",
       "      <th>5</th>\n",
       "      <td>France</td>\n",
       "      <td>0.000</td>\n",
       "    </tr>\n",
       "    <tr>\n",
       "      <th>6</th>\n",
       "      <td>Italy</td>\n",
       "      <td>0.000</td>\n",
       "    </tr>\n",
       "    <tr>\n",
       "      <th>7</th>\n",
       "      <td>Netherlands</td>\n",
       "      <td>0.000</td>\n",
       "    </tr>\n",
       "    <tr>\n",
       "      <th>8</th>\n",
       "      <td>Norway</td>\n",
       "      <td>0.000</td>\n",
       "    </tr>\n",
       "    <tr>\n",
       "      <th>9</th>\n",
       "      <td>Switzerland</td>\n",
       "      <td>0.000</td>\n",
       "    </tr>\n",
       "    <tr>\n",
       "      <th>10</th>\n",
       "      <td>Japan</td>\n",
       "      <td>0.000</td>\n",
       "    </tr>\n",
       "    <tr>\n",
       "      <th>11</th>\n",
       "      <td>Greece</td>\n",
       "      <td>0.000</td>\n",
       "    </tr>\n",
       "    <tr>\n",
       "      <th>12</th>\n",
       "      <td>Portugal</td>\n",
       "      <td>0.000</td>\n",
       "    </tr>\n",
       "    <tr>\n",
       "      <th>13</th>\n",
       "      <td>Spain</td>\n",
       "      <td>0.000</td>\n",
       "    </tr>\n",
       "    <tr>\n",
       "      <th>14</th>\n",
       "      <td>Australia</td>\n",
       "      <td>0.088</td>\n",
       "    </tr>\n",
       "    <tr>\n",
       "      <th>15</th>\n",
       "      <td>New Zealand</td>\n",
       "      <td>0.000</td>\n",
       "    </tr>\n",
       "  </tbody>\n",
       "</table>\n",
       "</div>"
      ],
      "text/plain": [
       "        Country  Weight\n",
       "0           USA   0.283\n",
       "1            UK   0.000\n",
       "2       Austria   0.630\n",
       "3       Belgium   0.000\n",
       "4       Denmark   0.000\n",
       "5        France   0.000\n",
       "6         Italy   0.000\n",
       "7   Netherlands   0.000\n",
       "8        Norway   0.000\n",
       "9   Switzerland   0.000\n",
       "10        Japan   0.000\n",
       "11       Greece   0.000\n",
       "12     Portugal   0.000\n",
       "13        Spain   0.000\n",
       "14    Australia   0.088\n",
       "15  New Zealand   0.000"
      ]
     },
     "execution_count": 100,
     "metadata": {},
     "output_type": "execute_result"
    }
   ],
   "source": [
    "gen_W = total_loss(gen_V)[1].value\n",
    "pd.DataFrame({'Country':data[data.country!='West Germany'].country.unique(), \n",
    "              'Weight': np.round(gen_W.T[0], decimals=3)})"
   ]
  },
  {
   "cell_type": "code",
   "execution_count": 95,
   "metadata": {},
   "outputs": [
    {
     "data": {
      "image/png": "[encoded data removed]",
      "text/plain": [
       "<Figure size 864x432 with 1 Axes>"
      ]
     },
     "metadata": {
      "needs_background": "light"
     },
     "output_type": "display_data"
    }
   ],
   "source": [
    "plt.figure(figsize=(12, 6))\n",
    "plt.plot(list(range(1960, 1990)), (gen_W.T @ y_ctr)[0], label='Optimizer')\n",
    "#plt.plot(np.array(range(1960, 1990)), (w_opt @ y_ctr)[0], label='Paper')\n",
    "plt.plot(list(range(1960, 1990)), y_tr[0], label='Treated unit')\n",
    "plt.legend()\n",
    "plt.show()"
   ]
  },
  {
   "cell_type": "code",
   "execution_count": 97,
   "metadata": {},
   "outputs": [
    {
     "data": {
      "image/png": "[encoded data removed]",
      "text/plain": [
       "<Figure size 648x504 with 1 Axes>"
      ]
     },
     "metadata": {
      "needs_background": "light"
     },
     "output_type": "display_data"
    }
   ],
   "source": [
    "plt.figure(figsize=(9, 7))\n",
    "plt.plot(list(data.year.unique()), (gen_W.T @ y_ctr_all)[0], label='Optimizer')\n",
    "#plt.plot(list(data.year.unique()), (w_opt @ y_ctr_all)[0], label='Paper')\n",
    "plt.plot(list(data.year.unique()), y_tr_all[0], label='Treated unit')\n",
    "plt.axvline(1990, color='red', linewidth=.7, linestyle=':')\n",
    "plt.legend()\n",
    "plt.show()"
   ]
  },
  {
   "cell_type": "code",
   "execution_count": 96,
   "metadata": {},
   "outputs": [
    {
     "data": {
      "text/plain": [
       "(-8.232488736302061, -9.484920562009224)"
      ]
     },
     "execution_count": 96,
     "metadata": {},
     "output_type": "execute_result"
    }
   ],
   "source": [
    "sum((gen_W.T @ X0 - X1)[0]), sum((w_opt @ X0 - X1)[0])"
   ]
  }
 ],
 "metadata": {
  "kernelspec": {
   "display_name": "Python 3",
   "language": "python",
   "name": "python3"
  },
  "language_info": {
   "codemirror_mode": {
    "name": "ipython",
    "version": 3
   },
   "file_extension": ".py",
   "mimetype": "text/x-python",
   "name": "python",
   "nbconvert_exporter": "python",
   "pygments_lexer": "ipython3",
   "version": "3.7.1"
  }
 },
 "nbformat": 4,
 "nbformat_minor": 2
}
